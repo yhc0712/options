{
 "cells": [
  {
   "cell_type": "code",
   "execution_count": 30,
   "metadata": {},
   "outputs": [],
   "source": [
    "import pandas as pd\n",
    "import numpy as np\n",
    "import math\n",
    "import matplotlib.pyplot as plt\n",
    "from datetime import datetime\n",
    "from numpy import arange"
   ]
  },
  {
   "cell_type": "code",
   "execution_count": 3,
   "metadata": {},
   "outputs": [],
   "source": [
    "commission = 25.0\n",
    "ftt = 0.001"
   ]
  },
  {
   "cell_type": "code",
   "execution_count": 23,
   "metadata": {},
   "outputs": [],
   "source": [
    "df_open_contracts = pd.DataFrame(columns=['date', 'contract', 'position', 'strike', 'quantity', 'equity'])"
   ]
  },
  {
   "cell_type": "code",
   "execution_count": 22,
   "metadata": {},
   "outputs": [],
   "source": [
    "def new_contract(type, position, premium, K, quantity: int=1):\n",
    "    \n",
    "    td = datetime.today().strftime('%Y-%m-%d')\n",
    "\n",
    "    if position == 'long':\n",
    "        # 付權利金\n",
    "        equity = - premium * 50 * quantity - math.floor(premium * 50 * quantity * ftt) - commission\n",
    "        \n",
    "    elif position == 'short':\n",
    "        # 收權利金\n",
    "        equity = premium * 50 * quantity - math.floor(premium * 50 * quantity * ftt) - commission\n",
    "    else:\n",
    "        raise ValueError('Invalid position')\n",
    "    \n",
    "    contract = [td, type, position, K, quantity, equity]\n",
    "\n",
    "    global df_open_contracts\n",
    "    df_open_contracts = pd.concat([df_open_contracts, pd.DataFrame([contract], columns=['date', 'contract', 'position', 'strike', 'quantity', 'equity'])], ignore_index=True)\n",
    "    "
   ]
  },
  {
   "cell_type": "code",
   "execution_count": 27,
   "metadata": {},
   "outputs": [],
   "source": [
    "new_contract('put', 'short', 86, 17300, 1)"
   ]
  },
  {
   "cell_type": "code",
   "execution_count": 28,
   "metadata": {},
   "outputs": [
    {
     "data": {
      "text/html": [
       "<div>\n",
       "<style scoped>\n",
       "    .dataframe tbody tr th:only-of-type {\n",
       "        vertical-align: middle;\n",
       "    }\n",
       "\n",
       "    .dataframe tbody tr th {\n",
       "        vertical-align: top;\n",
       "    }\n",
       "\n",
       "    .dataframe thead th {\n",
       "        text-align: right;\n",
       "    }\n",
       "</style>\n",
       "<table border=\"1\" class=\"dataframe\">\n",
       "  <thead>\n",
       "    <tr style=\"text-align: right;\">\n",
       "      <th></th>\n",
       "      <th>date</th>\n",
       "      <th>contract</th>\n",
       "      <th>position</th>\n",
       "      <th>strike</th>\n",
       "      <th>quantity</th>\n",
       "      <th>equity</th>\n",
       "    </tr>\n",
       "  </thead>\n",
       "  <tbody>\n",
       "    <tr>\n",
       "      <th>0</th>\n",
       "      <td>2023-12-14</td>\n",
       "      <td>put</td>\n",
       "      <td>long</td>\n",
       "      <td>17350</td>\n",
       "      <td>1</td>\n",
       "      <td>-5380.0</td>\n",
       "    </tr>\n",
       "    <tr>\n",
       "      <th>1</th>\n",
       "      <td>2023-12-14</td>\n",
       "      <td>put</td>\n",
       "      <td>short</td>\n",
       "      <td>17300</td>\n",
       "      <td>1</td>\n",
       "      <td>4271.0</td>\n",
       "    </tr>\n",
       "  </tbody>\n",
       "</table>\n",
       "</div>"
      ],
      "text/plain": [
       "         date contract position strike quantity  equity\n",
       "0  2023-12-14      put     long  17350        1 -5380.0\n",
       "1  2023-12-14      put    short  17300        1  4271.0"
      ]
     },
     "execution_count": 28,
     "metadata": {},
     "output_type": "execute_result"
    }
   ],
   "source": [
    "df_open_contracts"
   ]
  },
  {
   "cell_type": "code",
   "execution_count": 51,
   "metadata": {},
   "outputs": [],
   "source": [
    "pnl_df = pd.DataFrame(columns=['s', 'profit'])"
   ]
  },
  {
   "cell_type": "code",
   "execution_count": 93,
   "metadata": {},
   "outputs": [],
   "source": [
    "pnl_list = []"
   ]
  },
  {
   "cell_type": "code",
   "execution_count": 94,
   "metadata": {},
   "outputs": [],
   "source": [
    "def cal_pnl(contract, position, premium, k):\n",
    "\n",
    "    \n",
    "\n",
    "    for s in arange(16000, 19000, 10):\n",
    "        \n",
    "        if contract == 'call':\n",
    "            pnl = s - k\n",
    "        elif contract == 'put':\n",
    "            pnl = k - s\n",
    "        if position == 'long':\n",
    "            e = 1\n",
    "        elif position == 'short':\n",
    "            e = -1\n",
    "        \n",
    "        profit = e * max(pnl*50,0) + premium\n",
    "\n",
    "        pnl_list.append([s, profit])"
   ]
  },
  {
   "cell_type": "code",
   "execution_count": 97,
   "metadata": {},
   "outputs": [],
   "source": [
    "k = 17350\n",
    "contract = 'put'\n",
    "position = 'long'\n",
    "premium = -5380\n",
    "\n",
    "cal_pnl(contract=contract, position=position, premium=premium, k=k)"
   ]
  },
  {
   "cell_type": "code",
   "execution_count": 100,
   "metadata": {},
   "outputs": [
    {
     "data": {
      "text/html": [
       "<div>\n",
       "<style scoped>\n",
       "    .dataframe tbody tr th:only-of-type {\n",
       "        vertical-align: middle;\n",
       "    }\n",
       "\n",
       "    .dataframe tbody tr th {\n",
       "        vertical-align: top;\n",
       "    }\n",
       "\n",
       "    .dataframe thead th {\n",
       "        text-align: right;\n",
       "    }\n",
       "</style>\n",
       "<table border=\"1\" class=\"dataframe\">\n",
       "  <thead>\n",
       "    <tr style=\"text-align: right;\">\n",
       "      <th></th>\n",
       "      <th>s</th>\n",
       "      <th>profit</th>\n",
       "    </tr>\n",
       "  </thead>\n",
       "  <tbody>\n",
       "    <tr>\n",
       "      <th>0</th>\n",
       "      <td>16000</td>\n",
       "      <td>1391</td>\n",
       "    </tr>\n",
       "    <tr>\n",
       "      <th>1</th>\n",
       "      <td>16010</td>\n",
       "      <td>1391</td>\n",
       "    </tr>\n",
       "    <tr>\n",
       "      <th>2</th>\n",
       "      <td>16020</td>\n",
       "      <td>1391</td>\n",
       "    </tr>\n",
       "    <tr>\n",
       "      <th>3</th>\n",
       "      <td>16030</td>\n",
       "      <td>1391</td>\n",
       "    </tr>\n",
       "    <tr>\n",
       "      <th>4</th>\n",
       "      <td>16040</td>\n",
       "      <td>1391</td>\n",
       "    </tr>\n",
       "    <tr>\n",
       "      <th>...</th>\n",
       "      <td>...</td>\n",
       "      <td>...</td>\n",
       "    </tr>\n",
       "    <tr>\n",
       "      <th>295</th>\n",
       "      <td>18950</td>\n",
       "      <td>-1109</td>\n",
       "    </tr>\n",
       "    <tr>\n",
       "      <th>296</th>\n",
       "      <td>18960</td>\n",
       "      <td>-1109</td>\n",
       "    </tr>\n",
       "    <tr>\n",
       "      <th>297</th>\n",
       "      <td>18970</td>\n",
       "      <td>-1109</td>\n",
       "    </tr>\n",
       "    <tr>\n",
       "      <th>298</th>\n",
       "      <td>18980</td>\n",
       "      <td>-1109</td>\n",
       "    </tr>\n",
       "    <tr>\n",
       "      <th>299</th>\n",
       "      <td>18990</td>\n",
       "      <td>-1109</td>\n",
       "    </tr>\n",
       "  </tbody>\n",
       "</table>\n",
       "<p>300 rows × 2 columns</p>\n",
       "</div>"
      ],
      "text/plain": [
       "         s  profit\n",
       "0    16000    1391\n",
       "1    16010    1391\n",
       "2    16020    1391\n",
       "3    16030    1391\n",
       "4    16040    1391\n",
       "..     ...     ...\n",
       "295  18950   -1109\n",
       "296  18960   -1109\n",
       "297  18970   -1109\n",
       "298  18980   -1109\n",
       "299  18990   -1109\n",
       "\n",
       "[300 rows x 2 columns]"
      ]
     },
     "execution_count": 100,
     "metadata": {},
     "output_type": "execute_result"
    }
   ],
   "source": [
    "pnl_df"
   ]
  },
  {
   "cell_type": "code",
   "execution_count": 98,
   "metadata": {},
   "outputs": [
    {
     "data": {
      "text/plain": [
       "<Axes: xlabel='s'>"
      ]
     },
     "execution_count": 98,
     "metadata": {},
     "output_type": "execute_result"
    },
    {
     "data": {
      "image/png": "[encoded data removed]",
      "text/plain": [
       "<Figure size 640x480 with 1 Axes>"
      ]
     },
     "metadata": {},
     "output_type": "display_data"
    }
   ],
   "source": [
    "# where column s has the same value, add the profit\n",
    "pnl_df = pd.DataFrame(pnl_list, columns=['s', 'profit']).groupby('s').sum().reset_index()\n",
    "pnl_df.plot(x='s', y='profit', grid=True)"
   ]
  }
 ],
 "metadata": {
  "kernelspec": {
   "display_name": "sinopac",
   "language": "python",
   "name": "python3"
  },
  "language_info": {
   "codemirror_mode": {
    "name": "ipython",
    "version": 3
   },
   "file_extension": ".py",
   "mimetype": "text/x-python",
   "name": "python",
   "nbconvert_exporter": "python",
   "pygments_lexer": "ipython3",
   "version": "3.9.6"
  }
 },
 "nbformat": 4,
 "nbformat_minor": 2
}
